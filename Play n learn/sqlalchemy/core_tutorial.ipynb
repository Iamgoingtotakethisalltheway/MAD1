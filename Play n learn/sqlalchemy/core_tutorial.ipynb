{
 "cells": [
  {
   "cell_type": "markdown",
   "metadata": {},
   "source": [
    "# [SQLAlchemy Tutorial](https://www.youtube.com/watch?v=woKYyhLCcnU)"
   ]
  },
  {
   "cell_type": "markdown",
   "metadata": {},
   "source": [
    "# Engine"
   ]
  },
  {
   "cell_type": "code",
   "execution_count": 125,
   "metadata": {},
   "outputs": [
    {
     "data": {
      "text/plain": [
       "Engine(sqlite:///core_tutorial.sqlite3)"
      ]
     },
     "execution_count": 125,
     "metadata": {},
     "output_type": "execute_result"
    }
   ],
   "source": [
    "from sqlalchemy import create_engine\n",
    "engine = create_engine(\"sqlite:///core_tutorial.sqlite3\", echo=True)\n",
    "engine"
   ]
  },
  {
   "cell_type": "markdown",
   "metadata": {},
   "source": [
    "> Methods  \n",
    "\n",
    "<br>  \n",
    "\n",
    ">> #1  \n",
    "\n",
    "    result = engine.execute(\"write the sql query directly here\")\n",
    "    result.fetchall()\n",
    "\n",
    ">> #2  \n",
    "\n",
    "    conn = engine.connect()\n",
    "    result = conn.execute(\"some statement\")\n",
    "    result.fetchall()\n",
    "    conn.close()\n",
    "\n",
    ">> #3  \n",
    "\n",
    "    conn = engine.connect()\n",
    "    transaction = conn.begin()\n",
    "    conn.execute(\"statement1\")\n",
    "    conn.execute(\"statement2\")\n",
    "    transaction.commit()\n",
    "    conn.close()\n",
    "\n",
    "> Note: Directly sends string to the DBAPI. So, we need to take care of the syntax specificity of each database platform (different for sqlite3, postgresql, mysql etc)"
   ]
  },
  {
   "cell_type": "markdown",
   "metadata": {},
   "source": [
    "# Table, Metadata, Reflection, DDL"
   ]
  },
  {
   "cell_type": "code",
   "execution_count": 126,
   "metadata": {},
   "outputs": [],
   "source": [
    "from sqlalchemy import MetaData\n",
    "from sqlalchemy import Table, Column\n",
    "from sqlalchemy import Integer, String\n",
    "\n",
    "metadata = MetaData()\n",
    "user_table = Table('user', metadata,\n",
    "                Column('id', Integer, primary_key=True),\n",
    "                Column('name', String),\n",
    "                Column('fullname', String)\n",
    "                )"
   ]
  },
  {
   "cell_type": "markdown",
   "metadata": {},
   "source": [
    "> user_table created above is a python object which represents the table named 'user'.  \n",
    "> \n",
    "> This table object holds 3 column objects named 'id', 'name', 'fullname'.  "
   ]
  },
  {
   "cell_type": "markdown",
   "metadata": {},
   "source": [
    "### Attributes of the table object"
   ]
  },
  {
   "cell_type": "code",
   "execution_count": 127,
   "metadata": {},
   "outputs": [
    {
     "name": "stdout",
     "output_type": "stream",
     "text": [
      "ImmutableColumnCollection(user.id, user.name, user.fullname)\n",
      "['id', 'name', 'fullname']\n"
     ]
    },
    {
     "data": {
      "text/plain": [
       "<sqlalchemy.sql.base.ImmutableColumnCollection at 0x7f09ca5d6770>"
      ]
     },
     "execution_count": 127,
     "metadata": {},
     "output_type": "execute_result"
    }
   ],
   "source": [
    "print(user_table.columns)\n",
    "print(user_table.columns.keys())\n",
    "user_table.columns"
   ]
  },
  {
   "cell_type": "code",
   "execution_count": 128,
   "metadata": {},
   "outputs": [
    {
     "name": "stdout",
     "output_type": "stream",
     "text": [
      "user.name\n"
     ]
    },
    {
     "data": {
      "text/plain": [
       "Column('name', String(), table=<user>)"
      ]
     },
     "execution_count": 128,
     "metadata": {},
     "output_type": "execute_result"
    }
   ],
   "source": [
    "print(user_table.columns.name)\n",
    "user_table.columns.name"
   ]
  },
  {
   "cell_type": "code",
   "execution_count": 129,
   "metadata": {},
   "outputs": [
    {
     "name": "stdout",
     "output_type": "stream",
     "text": [
      "user.id\n"
     ]
    },
    {
     "data": {
      "text/plain": [
       "Column('id', Integer(), table=<user>, primary_key=True, nullable=False)"
      ]
     },
     "execution_count": 129,
     "metadata": {},
     "output_type": "execute_result"
    }
   ],
   "source": [
    "print(user_table.columns.id)\n",
    "user_table.columns.id"
   ]
  },
  {
   "cell_type": "code",
   "execution_count": 130,
   "metadata": {},
   "outputs": [
    {
     "name": "stdout",
     "output_type": "stream",
     "text": [
      "user.fullname\n"
     ]
    },
    {
     "data": {
      "text/plain": [
       "Column('fullname', String(), table=<user>)"
      ]
     },
     "execution_count": 130,
     "metadata": {},
     "output_type": "execute_result"
    }
   ],
   "source": [
    "print(user_table.columns.fullname)\n",
    "user_table.columns.fullname"
   ]
  },
  {
   "cell_type": "code",
   "execution_count": 131,
   "metadata": {},
   "outputs": [
    {
     "name": "stdout",
     "output_type": "stream",
     "text": [
      "ImmutableColumnCollection(user.id, user.name, user.fullname)\n"
     ]
    },
    {
     "data": {
      "text/plain": [
       "<sqlalchemy.sql.base.ImmutableColumnCollection at 0x7f09ca5d6770>"
      ]
     },
     "execution_count": 131,
     "metadata": {},
     "output_type": "execute_result"
    }
   ],
   "source": [
    "print(user_table.c)\n",
    "user_table.c"
   ]
  },
  {
   "cell_type": "code",
   "execution_count": 132,
   "metadata": {},
   "outputs": [
    {
     "data": {
      "text/plain": [
       "String()"
      ]
     },
     "execution_count": 132,
     "metadata": {},
     "output_type": "execute_result"
    }
   ],
   "source": [
    "user_table.c.name.type"
   ]
  },
  {
   "cell_type": "code",
   "execution_count": 133,
   "metadata": {},
   "outputs": [
    {
     "data": {
      "text/plain": [
       "Integer()"
      ]
     },
     "execution_count": 133,
     "metadata": {},
     "output_type": "execute_result"
    }
   ],
   "source": [
    "user_table.c.id.type"
   ]
  },
  {
   "cell_type": "code",
   "execution_count": 134,
   "metadata": {},
   "outputs": [
    {
     "name": "stdout",
     "output_type": "stream",
     "text": [
      "VARCHAR\n",
      "INTEGER\n"
     ]
    }
   ],
   "source": [
    "print(user_table.c.name.type)\n",
    "print(user_table.c.id.type)"
   ]
  },
  {
   "cell_type": "code",
   "execution_count": 135,
   "metadata": {},
   "outputs": [
    {
     "data": {
      "text/plain": [
       "PrimaryKeyConstraint(Column('id', Integer(), table=<user>, primary_key=True, nullable=False))"
      ]
     },
     "execution_count": 135,
     "metadata": {},
     "output_type": "execute_result"
    }
   ],
   "source": [
    "user_table.primary_key"
   ]
  },
  {
   "cell_type": "code",
   "execution_count": 136,
   "metadata": {},
   "outputs": [
    {
     "name": "stdout",
     "output_type": "stream",
     "text": [
      "SELECT \"user\".id, \"user\".name, \"user\".fullname \n",
      "FROM \"user\"\n"
     ]
    }
   ],
   "source": [
    "print(user_table.select())"
   ]
  },
  {
   "cell_type": "markdown",
   "metadata": {},
   "source": [
    "### Use Table and Metadata objects to generate a schema in a database"
   ]
  },
  {
   "cell_type": "code",
   "execution_count": 137,
   "metadata": {},
   "outputs": [
    {
     "name": "stdout",
     "output_type": "stream",
     "text": [
      "2022-02-01 01:51:24,424 INFO sqlalchemy.engine.Engine BEGIN (implicit)\n",
      "2022-02-01 01:51:24,425 INFO sqlalchemy.engine.Engine PRAGMA main.table_info(\"user\")\n",
      "2022-02-01 01:51:24,426 INFO sqlalchemy.engine.Engine [raw sql] ()\n",
      "2022-02-01 01:51:24,428 INFO sqlalchemy.engine.Engine COMMIT\n"
     ]
    }
   ],
   "source": [
    "from sqlalchemy import create_engine\n",
    "engine = create_engine(\"sqlite:///core_tutorial.sqlite3\", echo=True)\n",
    "metadata.create_all(engine)"
   ]
  },
  {
   "cell_type": "markdown",
   "metadata": {},
   "source": [
    "### Many different datatypes are supported"
   ]
  },
  {
   "cell_type": "code",
   "execution_count": 138,
   "metadata": {},
   "outputs": [
    {
     "name": "stdout",
     "output_type": "stream",
     "text": [
      "2022-02-01 01:51:24,495 INFO sqlalchemy.engine.Engine BEGIN (implicit)\n",
      "2022-02-01 01:51:24,496 INFO sqlalchemy.engine.Engine PRAGMA main.table_info(\"fancy\")\n",
      "2022-02-01 01:51:24,496 INFO sqlalchemy.engine.Engine [raw sql] ()\n",
      "2022-02-01 01:51:24,497 INFO sqlalchemy.engine.Engine PRAGMA temp.table_info(\"fancy\")\n",
      "2022-02-01 01:51:24,498 INFO sqlalchemy.engine.Engine [raw sql] ()\n",
      "2022-02-01 01:51:24,499 INFO sqlalchemy.engine.Engine COMMIT\n"
     ]
    }
   ],
   "source": [
    "fancy_table.drop(engine, checkfirst=True)\n",
    "# engine.execute(\"drop table if exists fancy\")"
   ]
  },
  {
   "cell_type": "code",
   "execution_count": 139,
   "metadata": {},
   "outputs": [
    {
     "name": "stdout",
     "output_type": "stream",
     "text": [
      "2022-02-01 01:51:24,534 INFO sqlalchemy.engine.Engine BEGIN (implicit)\n",
      "2022-02-01 01:51:24,537 INFO sqlalchemy.engine.Engine \n",
      "CREATE TABLE fancy (\n",
      "\t\"key\" VARCHAR(50) NOT NULL, \n",
      "\ttimestamp DATETIME, \n",
      "\tamount NUMERIC(10, 2), \n",
      "\ttype VARCHAR(1), \n",
      "\tPRIMARY KEY (\"key\")\n",
      ")\n",
      "\n",
      "\n",
      "2022-02-01 01:51:24,538 INFO sqlalchemy.engine.Engine [no key 0.00114s] ()\n",
      "2022-02-01 01:51:24,545 INFO sqlalchemy.engine.Engine COMMIT\n"
     ]
    }
   ],
   "source": [
    "from sqlalchemy import String, Numeric, DateTime, Enum\n",
    "\n",
    "fancy_table = Table('fancy', metadata,\n",
    "                Column('key', String(50), primary_key=True),\n",
    "                Column('timestamp', DateTime),\n",
    "                Column('amount', Numeric(10, 2)),\n",
    "                Column('type', Enum('a', 'b', 'c'))\n",
    "            )\n",
    "fancy_table.create(engine)"
   ]
  },
  {
   "cell_type": "markdown",
   "metadata": {},
   "source": [
    "### Foreign key constraint"
   ]
  },
  {
   "cell_type": "code",
   "execution_count": 140,
   "metadata": {},
   "outputs": [
    {
     "name": "stdout",
     "output_type": "stream",
     "text": [
      "2022-02-01 01:51:24,618 INFO sqlalchemy.engine.Engine BEGIN (implicit)\n",
      "2022-02-01 01:51:24,620 INFO sqlalchemy.engine.Engine PRAGMA main.table_info(\"address\")\n",
      "2022-02-01 01:51:24,621 INFO sqlalchemy.engine.Engine [raw sql] ()\n",
      "2022-02-01 01:51:24,624 INFO sqlalchemy.engine.Engine PRAGMA temp.table_info(\"address\")\n",
      "2022-02-01 01:51:24,625 INFO sqlalchemy.engine.Engine [raw sql] ()\n",
      "2022-02-01 01:51:24,628 INFO sqlalchemy.engine.Engine COMMIT\n"
     ]
    }
   ],
   "source": [
    "address_table.drop(engine, checkfirst=True)\n",
    "# engine.execute(\"drop table if exists address\")"
   ]
  },
  {
   "cell_type": "code",
   "execution_count": 141,
   "metadata": {},
   "outputs": [
    {
     "name": "stdout",
     "output_type": "stream",
     "text": [
      "2022-02-01 01:51:24,684 INFO sqlalchemy.engine.Engine BEGIN (implicit)\n",
      "2022-02-01 01:51:24,686 INFO sqlalchemy.engine.Engine \n",
      "CREATE TABLE address (\n",
      "\tid INTEGER NOT NULL, \n",
      "\temail_address VARCHAR(100) NOT NULL, \n",
      "\tuser_id INTEGER, \n",
      "\tPRIMARY KEY (id), \n",
      "\tFOREIGN KEY(user_id) REFERENCES user (id)\n",
      ")\n",
      "\n",
      "\n",
      "2022-02-01 01:51:24,688 INFO sqlalchemy.engine.Engine [no key 0.00217s] ()\n",
      "2022-02-01 01:51:24,694 INFO sqlalchemy.engine.Engine COMMIT\n"
     ]
    }
   ],
   "source": [
    "from sqlalchemy import ForeignKey\n",
    "address_table = Table('address', metadata,\n",
    "                    Column('id', Integer, primary_key=True),\n",
    "                    Column('email_address', String(100), nullable=False),\n",
    "                    Column('user_id', Integer, ForeignKey('user.id'))\n",
    "                )\n",
    "address_table.create(engine)"
   ]
  },
  {
   "cell_type": "markdown",
   "metadata": {},
   "source": [
    "> For composite foreign key constraints watch SQLAlchemy tutorial at [51:10](https://www.youtube.com/watch?v=woKYyhLCcnU)"
   ]
  },
  {
   "cell_type": "code",
   "execution_count": 142,
   "metadata": {},
   "outputs": [
    {
     "name": "stdout",
     "output_type": "stream",
     "text": [
      "2022-02-01 01:51:24,719 INFO sqlalchemy.engine.Engine BEGIN (implicit)\n",
      "2022-02-01 01:51:24,720 INFO sqlalchemy.engine.Engine PRAGMA main.table_info(\"network\")\n",
      "2022-02-01 01:51:24,722 INFO sqlalchemy.engine.Engine [raw sql] ()\n",
      "2022-02-01 01:51:24,723 INFO sqlalchemy.engine.Engine PRAGMA temp.table_info(\"network\")\n",
      "2022-02-01 01:51:24,725 INFO sqlalchemy.engine.Engine [raw sql] ()\n",
      "2022-02-01 01:51:24,726 INFO sqlalchemy.engine.Engine COMMIT\n"
     ]
    }
   ],
   "source": [
    "network_table.drop(engine, checkfirst=True)\n",
    "# engine.execute(\"drop table if exists network\")"
   ]
  },
  {
   "cell_type": "code",
   "execution_count": 143,
   "metadata": {},
   "outputs": [
    {
     "name": "stdout",
     "output_type": "stream",
     "text": [
      "2022-02-01 01:51:24,763 INFO sqlalchemy.engine.Engine BEGIN (implicit)\n",
      "2022-02-01 01:51:24,764 INFO sqlalchemy.engine.Engine PRAGMA main.table_info(\"user\")\n",
      "2022-02-01 01:51:24,765 INFO sqlalchemy.engine.Engine [raw sql] ()\n",
      "2022-02-01 01:51:24,767 INFO sqlalchemy.engine.Engine PRAGMA main.table_info(\"fancy\")\n",
      "2022-02-01 01:51:24,768 INFO sqlalchemy.engine.Engine [raw sql] ()\n",
      "2022-02-01 01:51:24,769 INFO sqlalchemy.engine.Engine PRAGMA main.table_info(\"address\")\n",
      "2022-02-01 01:51:24,771 INFO sqlalchemy.engine.Engine [raw sql] ()\n",
      "2022-02-01 01:51:24,773 INFO sqlalchemy.engine.Engine PRAGMA main.table_info(\"network\")\n",
      "2022-02-01 01:51:24,774 INFO sqlalchemy.engine.Engine [raw sql] ()\n",
      "2022-02-01 01:51:24,775 INFO sqlalchemy.engine.Engine PRAGMA temp.table_info(\"network\")\n",
      "2022-02-01 01:51:24,777 INFO sqlalchemy.engine.Engine [raw sql] ()\n",
      "2022-02-01 01:51:24,779 INFO sqlalchemy.engine.Engine \n",
      "CREATE TABLE network (\n",
      "\tnetwork_id INTEGER NOT NULL, \n",
      "\tname VARCHAR(100) NOT NULL, \n",
      "\tcreated_at DATETIME NOT NULL, \n",
      "\towner_id INTEGER, \n",
      "\tPRIMARY KEY (network_id), \n",
      "\tFOREIGN KEY(owner_id) REFERENCES user (id)\n",
      ")\n",
      "\n",
      "\n",
      "2022-02-01 01:51:24,780 INFO sqlalchemy.engine.Engine [no key 0.00102s] ()\n",
      "2022-02-01 01:51:24,793 INFO sqlalchemy.engine.Engine COMMIT\n"
     ]
    }
   ],
   "source": [
    "from sqlalchemy import String, Integer, DateTime\n",
    "\n",
    "network_table = Table('network', metadata,\n",
    "                    Column('network_id', Integer, primary_key=True),\n",
    "                    Column('name', String(100), nullable=False),\n",
    "                    Column('created_at', DateTime, nullable=False),\n",
    "                    Column('owner_id', Integer, ForeignKey('user.id'))\n",
    "                )\n",
    "metadata.create_all(engine)"
   ]
  },
  {
   "cell_type": "markdown",
   "metadata": {},
   "source": [
    "# Reflection"
   ]
  },
  {
   "cell_type": "markdown",
   "metadata": {},
   "source": [
    "> Refers to loading Table objects based on reading from an existing database.  \n",
    "> Note: We are creating new metadata object called metadata2 (Because 'metadata' object created above already has a 'user' table inside it)."
   ]
  },
  {
   "cell_type": "code",
   "execution_count": 144,
   "metadata": {},
   "outputs": [
    {
     "name": "stdout",
     "output_type": "stream",
     "text": [
      "2022-02-01 01:51:24,834 INFO sqlalchemy.engine.Engine PRAGMA main.table_xinfo(\"user\")\n",
      "2022-02-01 01:51:24,834 INFO sqlalchemy.engine.Engine [raw sql] ()\n",
      "2022-02-01 01:51:24,837 INFO sqlalchemy.engine.Engine SELECT sql FROM  (SELECT * FROM sqlite_master UNION ALL   SELECT * FROM sqlite_temp_master) WHERE name = ? AND type = 'table'\n",
      "2022-02-01 01:51:24,837 INFO sqlalchemy.engine.Engine [raw sql] ('user',)\n",
      "2022-02-01 01:51:24,838 INFO sqlalchemy.engine.Engine PRAGMA main.foreign_key_list(\"user\")\n",
      "2022-02-01 01:51:24,839 INFO sqlalchemy.engine.Engine [raw sql] ()\n",
      "2022-02-01 01:51:24,840 INFO sqlalchemy.engine.Engine PRAGMA temp.foreign_key_list(\"user\")\n",
      "2022-02-01 01:51:24,841 INFO sqlalchemy.engine.Engine [raw sql] ()\n",
      "2022-02-01 01:51:24,842 INFO sqlalchemy.engine.Engine SELECT sql FROM  (SELECT * FROM sqlite_master UNION ALL   SELECT * FROM sqlite_temp_master) WHERE name = ? AND type = 'table'\n",
      "2022-02-01 01:51:24,842 INFO sqlalchemy.engine.Engine [raw sql] ('user',)\n",
      "2022-02-01 01:51:24,843 INFO sqlalchemy.engine.Engine PRAGMA main.index_list(\"user\")\n",
      "2022-02-01 01:51:24,844 INFO sqlalchemy.engine.Engine [raw sql] ()\n",
      "2022-02-01 01:51:24,845 INFO sqlalchemy.engine.Engine PRAGMA temp.index_list(\"user\")\n",
      "2022-02-01 01:51:24,845 INFO sqlalchemy.engine.Engine [raw sql] ()\n",
      "2022-02-01 01:51:24,846 INFO sqlalchemy.engine.Engine PRAGMA main.index_list(\"user\")\n",
      "2022-02-01 01:51:24,847 INFO sqlalchemy.engine.Engine [raw sql] ()\n",
      "2022-02-01 01:51:24,848 INFO sqlalchemy.engine.Engine PRAGMA temp.index_list(\"user\")\n",
      "2022-02-01 01:51:24,849 INFO sqlalchemy.engine.Engine [raw sql] ()\n",
      "2022-02-01 01:51:24,849 INFO sqlalchemy.engine.Engine SELECT sql FROM  (SELECT * FROM sqlite_master UNION ALL   SELECT * FROM sqlite_temp_master) WHERE name = ? AND type = 'table'\n",
      "2022-02-01 01:51:24,850 INFO sqlalchemy.engine.Engine [raw sql] ('user',)\n"
     ]
    }
   ],
   "source": [
    "metadata2 = MetaData()\n",
    "user_reflected = Table('user', metadata2, autoload=True, autoload_with=engine)"
   ]
  },
  {
   "cell_type": "code",
   "execution_count": 145,
   "metadata": {},
   "outputs": [
    {
     "data": {
      "text/plain": [
       "Table('user', MetaData(), Column('id', INTEGER(), table=<user>, primary_key=True, nullable=False), Column('name', VARCHAR(), table=<user>), Column('fullname', VARCHAR(), table=<user>), schema=None)"
      ]
     },
     "execution_count": 145,
     "metadata": {},
     "output_type": "execute_result"
    }
   ],
   "source": [
    "user_reflected"
   ]
  },
  {
   "cell_type": "code",
   "execution_count": 146,
   "metadata": {},
   "outputs": [
    {
     "name": "stdout",
     "output_type": "stream",
     "text": [
      "2022-02-01 01:51:24,978 INFO sqlalchemy.engine.Engine PRAGMA main.table_xinfo(\"network\")\n",
      "2022-02-01 01:51:24,979 INFO sqlalchemy.engine.Engine [raw sql] ()\n",
      "2022-02-01 01:51:24,981 INFO sqlalchemy.engine.Engine SELECT sql FROM  (SELECT * FROM sqlite_master UNION ALL   SELECT * FROM sqlite_temp_master) WHERE name = ? AND type = 'table'\n",
      "2022-02-01 01:51:24,982 INFO sqlalchemy.engine.Engine [raw sql] ('network',)\n",
      "2022-02-01 01:51:24,983 INFO sqlalchemy.engine.Engine PRAGMA main.foreign_key_list(\"network\")\n",
      "2022-02-01 01:51:24,983 INFO sqlalchemy.engine.Engine [raw sql] ()\n",
      "2022-02-01 01:51:24,984 INFO sqlalchemy.engine.Engine SELECT sql FROM  (SELECT * FROM sqlite_master UNION ALL   SELECT * FROM sqlite_temp_master) WHERE name = ? AND type = 'table'\n",
      "2022-02-01 01:51:24,985 INFO sqlalchemy.engine.Engine [raw sql] ('network',)\n",
      "2022-02-01 01:51:24,987 INFO sqlalchemy.engine.Engine PRAGMA main.index_list(\"network\")\n",
      "2022-02-01 01:51:24,988 INFO sqlalchemy.engine.Engine [raw sql] ()\n",
      "2022-02-01 01:51:24,989 INFO sqlalchemy.engine.Engine PRAGMA temp.index_list(\"network\")\n",
      "2022-02-01 01:51:24,989 INFO sqlalchemy.engine.Engine [raw sql] ()\n",
      "2022-02-01 01:51:24,990 INFO sqlalchemy.engine.Engine PRAGMA main.index_list(\"network\")\n",
      "2022-02-01 01:51:24,991 INFO sqlalchemy.engine.Engine [raw sql] ()\n",
      "2022-02-01 01:51:24,992 INFO sqlalchemy.engine.Engine PRAGMA temp.index_list(\"network\")\n",
      "2022-02-01 01:51:24,992 INFO sqlalchemy.engine.Engine [raw sql] ()\n",
      "2022-02-01 01:51:24,993 INFO sqlalchemy.engine.Engine SELECT sql FROM  (SELECT * FROM sqlite_master UNION ALL   SELECT * FROM sqlite_temp_master) WHERE name = ? AND type = 'table'\n",
      "2022-02-01 01:51:24,993 INFO sqlalchemy.engine.Engine [raw sql] ('network',)\n"
     ]
    }
   ],
   "source": [
    "network_reflected = Table('network', metadata2, autoload=True, autoload_with=engine)"
   ]
  },
  {
   "cell_type": "code",
   "execution_count": 147,
   "metadata": {},
   "outputs": [
    {
     "data": {
      "text/plain": [
       "Table('network', MetaData(), Column('network_id', INTEGER(), table=<network>, primary_key=True, nullable=False), Column('name', VARCHAR(length=100), table=<network>, nullable=False), Column('created_at', DATETIME(), table=<network>, nullable=False), Column('owner_id', INTEGER(), ForeignKey('user.id'), table=<network>), schema=None)"
      ]
     },
     "execution_count": 147,
     "metadata": {},
     "output_type": "execute_result"
    }
   ],
   "source": [
    "network_reflected"
   ]
  },
  {
   "cell_type": "markdown",
   "metadata": {},
   "source": [
    "# Inspector"
   ]
  },
  {
   "cell_type": "code",
   "execution_count": 148,
   "metadata": {},
   "outputs": [
    {
     "data": {
      "text/plain": [
       "<sqlalchemy.engine.reflection.Inspector at 0x7f09ca5fa160>"
      ]
     },
     "execution_count": 148,
     "metadata": {},
     "output_type": "execute_result"
    }
   ],
   "source": [
    "from sqlalchemy import inspect\n",
    "\n",
    "inspector =  inspect(engine)\n",
    "inspector"
   ]
  },
  {
   "cell_type": "code",
   "execution_count": 149,
   "metadata": {},
   "outputs": [
    {
     "name": "stdout",
     "output_type": "stream",
     "text": [
      "2022-02-01 01:51:25,097 INFO sqlalchemy.engine.Engine SELECT name FROM sqlite_master WHERE type='table' ORDER BY name\n",
      "2022-02-01 01:51:25,098 INFO sqlalchemy.engine.Engine [raw sql] ()\n"
     ]
    },
    {
     "data": {
      "text/plain": [
       "['address', 'fancy', 'network', 'user']"
      ]
     },
     "execution_count": 149,
     "metadata": {},
     "output_type": "execute_result"
    }
   ],
   "source": [
    "inspector.get_table_names()"
   ]
  },
  {
   "cell_type": "code",
   "execution_count": 150,
   "metadata": {},
   "outputs": [
    {
     "name": "stdout",
     "output_type": "stream",
     "text": [
      "2022-02-01 01:51:25,170 INFO sqlalchemy.engine.Engine PRAGMA main.table_xinfo(\"network\")\n",
      "2022-02-01 01:51:25,174 INFO sqlalchemy.engine.Engine [raw sql] ()\n"
     ]
    },
    {
     "data": {
      "text/plain": [
       "[{'name': 'network_id',\n",
       "  'type': INTEGER(),\n",
       "  'nullable': False,\n",
       "  'default': None,\n",
       "  'autoincrement': 'auto',\n",
       "  'primary_key': 1},\n",
       " {'name': 'name',\n",
       "  'type': VARCHAR(length=100),\n",
       "  'nullable': False,\n",
       "  'default': None,\n",
       "  'autoincrement': 'auto',\n",
       "  'primary_key': 0},\n",
       " {'name': 'created_at',\n",
       "  'type': DATETIME(),\n",
       "  'nullable': False,\n",
       "  'default': None,\n",
       "  'autoincrement': 'auto',\n",
       "  'primary_key': 0},\n",
       " {'name': 'owner_id',\n",
       "  'type': INTEGER(),\n",
       "  'nullable': True,\n",
       "  'default': None,\n",
       "  'autoincrement': 'auto',\n",
       "  'primary_key': 0}]"
      ]
     },
     "execution_count": 150,
     "metadata": {},
     "output_type": "execute_result"
    }
   ],
   "source": [
    "inspector.get_columns('network')"
   ]
  },
  {
   "cell_type": "code",
   "execution_count": 151,
   "metadata": {},
   "outputs": [
    {
     "name": "stdout",
     "output_type": "stream",
     "text": [
      "2022-02-01 01:51:25,244 INFO sqlalchemy.engine.Engine PRAGMA main.foreign_key_list(\"address\")\n",
      "2022-02-01 01:51:25,246 INFO sqlalchemy.engine.Engine [raw sql] ()\n",
      "2022-02-01 01:51:25,247 INFO sqlalchemy.engine.Engine SELECT sql FROM  (SELECT * FROM sqlite_master UNION ALL   SELECT * FROM sqlite_temp_master) WHERE name = ? AND type = 'table'\n",
      "2022-02-01 01:51:25,248 INFO sqlalchemy.engine.Engine [raw sql] ('address',)\n"
     ]
    },
    {
     "data": {
      "text/plain": [
       "[{'name': None,\n",
       "  'constrained_columns': ['user_id'],\n",
       "  'referred_schema': None,\n",
       "  'referred_table': 'user',\n",
       "  'referred_columns': ['id'],\n",
       "  'options': {}}]"
      ]
     },
     "execution_count": 151,
     "metadata": {},
     "output_type": "execute_result"
    }
   ],
   "source": [
    "inspector.get_foreign_keys('address')"
   ]
  },
  {
   "cell_type": "code",
   "execution_count": 152,
   "metadata": {},
   "outputs": [
    {
     "name": "stdout",
     "output_type": "stream",
     "text": [
      "2022-02-01 01:51:25,276 INFO sqlalchemy.engine.Engine SELECT sql FROM  (SELECT * FROM sqlite_master UNION ALL   SELECT * FROM sqlite_temp_master) WHERE name = ? AND type = 'table'\n",
      "2022-02-01 01:51:25,277 INFO sqlalchemy.engine.Engine [raw sql] ('user',)\n",
      "2022-02-01 01:51:25,278 INFO sqlalchemy.engine.Engine PRAGMA main.table_xinfo(\"user\")\n",
      "2022-02-01 01:51:25,279 INFO sqlalchemy.engine.Engine [raw sql] ()\n"
     ]
    },
    {
     "data": {
      "text/plain": [
       "{'constrained_columns': ['id'], 'name': None}"
      ]
     },
     "execution_count": 152,
     "metadata": {},
     "output_type": "execute_result"
    }
   ],
   "source": [
    "inspector.get_pk_constraint('user')"
   ]
  },
  {
   "cell_type": "markdown",
   "metadata": {},
   "source": [
    "# SQL expressions"
   ]
  },
  {
   "cell_type": "code",
   "execution_count": 153,
   "metadata": {},
   "outputs": [],
   "source": [
    "# To be done................"
   ]
  }
 ],
 "metadata": {
  "interpreter": {
   "hash": "916dbcbb3f70747c44a77c7bcd40155683ae19c65e1c03b4aa3499c5328201f1"
  },
  "kernelspec": {
   "display_name": "Python 3.8.10 64-bit",
   "language": "python",
   "name": "python3"
  },
  "language_info": {
   "codemirror_mode": {
    "name": "ipython",
    "version": 3
   },
   "file_extension": ".py",
   "mimetype": "text/x-python",
   "name": "python",
   "nbconvert_exporter": "python",
   "pygments_lexer": "ipython3",
   "version": "3.9.7"
  },
  "orig_nbformat": 4
 },
 "nbformat": 4,
 "nbformat_minor": 2
}
